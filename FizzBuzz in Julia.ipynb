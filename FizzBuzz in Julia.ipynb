{
 "cells": [
  {
   "cell_type": "markdown",
   "metadata": {},
   "source": [
    "# FizzBuzz in Julia"
   ]
  },
  {
   "cell_type": "code",
   "execution_count": 1,
   "metadata": {
    "collapsed": false,
    "scrolled": true
   },
   "outputs": [
    {
     "name": "stdout",
     "output_type": "stream",
     "text": [
      "1\n",
      "2\n",
      "Fizz\n",
      "4\n",
      "Buzz\n",
      "Fizz\n",
      "7\n",
      "8\n",
      "Fizz\n",
      "Buzz\n",
      "11\n",
      "Fizz\n",
      "13\n",
      "14\n",
      "FizzBuzz\n",
      "16\n",
      "17\n",
      "Fizz\n",
      "19\n",
      "Buzz\n",
      "Fizz\n",
      "22\n",
      "23\n",
      "Fizz\n",
      "Buzz\n",
      "26\n",
      "Fizz\n",
      "28\n",
      "29\n",
      "FizzBuzz\n",
      "31\n",
      "32\n",
      "Fizz\n",
      "34\n",
      "Buzz\n",
      "Fizz\n",
      "37\n",
      "38\n",
      "Fizz\n",
      "Buzz\n",
      "41\n",
      "Fizz\n",
      "43\n",
      "44\n",
      "FizzBuzz\n",
      "46\n",
      "47\n",
      "Fizz\n",
      "49\n",
      "Buzz\n",
      "Fizz\n",
      "52\n",
      "53\n",
      "Fizz\n",
      "Buzz\n",
      "56\n",
      "Fizz\n",
      "58\n",
      "59\n",
      "FizzBuzz\n",
      "61\n",
      "62\n",
      "Fizz\n",
      "64\n",
      "Buzz\n",
      "Fizz\n",
      "67\n",
      "68\n",
      "Fizz\n",
      "Buzz\n",
      "71\n",
      "Fizz\n",
      "73\n",
      "74\n",
      "FizzBuzz\n",
      "76\n",
      "77\n",
      "Fizz\n",
      "79\n",
      "Buzz\n",
      "Fizz\n",
      "82\n",
      "83\n",
      "Fizz\n",
      "Buzz\n",
      "86\n",
      "Fizz\n",
      "88\n",
      "89\n",
      "FizzBuzz\n",
      "91\n",
      "92\n",
      "Fizz\n",
      "94\n",
      "Buzz\n",
      "Fizz\n",
      "97\n",
      "98\n",
      "Fizz\n",
      "Buzz\n"
     ]
    }
   ],
   "source": [
    "for x = 1:100\n",
    "    if x % 15 == 0\n",
    "        println(\"FizzBuzz\")\n",
    "    elseif x % 3 == 0\n",
    "        println(\"Fizz\")\n",
    "    elseif x % 5 == 0\n",
    "        println(\"Buzz\")\n",
    "    else\n",
    "        println(x)\n",
    "    end\n",
    "end"
   ]
  },
  {
   "cell_type": "code",
   "execution_count": 2,
   "metadata": {
    "collapsed": false
   },
   "outputs": [
    {
     "name": "stdout",
     "output_type": "stream",
     "text": [
      "Any[1,2,\"Fizz\",4,\"Buzz\",\"Fizz\",7,8,\"Fizz\",\"Buzz\",11,\"Fizz\",13,14,\"FizzBuzz\",16,17,\"Fizz\",19,\"Buzz\",\"Fizz\",22,23,\"Fizz\",\"Buzz\",26,\"Fizz\",28,29,\"FizzBuzz\",31,32,\"Fizz\",34,\"Buzz\",\"Fizz\",37,38,\"Fizz\",\"Buzz\",41,\"Fizz\",43,44,\"FizzBuzz\",46,47,\"Fizz\",49,\"Buzz\",\"Fizz\",52,53,\"Fizz\",\"Buzz\",56,\"Fizz\",58,59,\"FizzBuzz\",61,62,\"Fizz\",64,\"Buzz\",\"Fizz\",67,68,\"Fizz\",\"Buzz\",71,\"Fizz\",73,74,\"FizzBuzz\",76,77,\"Fizz\",79,\"Buzz\",\"Fizz\",82,83,\"Fizz\",\"Buzz\",86,\"Fizz\",88,89,\"FizzBuzz\",91,92,\"Fizz\",94,\"Buzz\",\"Fizz\",97,98,\"Fizz\",\"Buzz\"]\n"
     ]
    }
   ],
   "source": [
    "#For compact and clean viewing\n",
    "println([i%15 == 0? \"FizzBuzz\":\n",
    "         i%5  == 0? \"Buzz\":\n",
    "         i%3  == 0? \"Fizz\":\n",
    "         i for i = 1:100])"
   ]
  },
  {
   "cell_type": "code",
   "execution_count": null,
   "metadata": {
    "collapsed": true
   },
   "outputs": [],
   "source": []
  }
 ],
 "metadata": {
  "kernelspec": {
   "display_name": "Julia 0.5.0",
   "language": "julia",
   "name": "julia-0.5"
  },
  "language_info": {
   "file_extension": ".jl",
   "mimetype": "application/julia",
   "name": "julia",
   "version": "0.5.0"
  }
 },
 "nbformat": 4,
 "nbformat_minor": 2
}
